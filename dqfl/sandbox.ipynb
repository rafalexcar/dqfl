{
 "cells": [
  {
   "cell_type": "code",
   "id": "initial_id",
   "metadata": {
    "collapsed": true,
    "ExecuteTime": {
     "end_time": "2025-01-30T21:41:31.943825Z",
     "start_time": "2025-01-30T21:41:31.117057Z"
    }
   },
   "source": [
    "from unittest.mock import inplace\n",
    "\n",
    "from sklearn.datasets import fetch_openml\n",
    "\n",
    "# Load the dataset\n",
    "dataset = fetch_openml(data_id=1590, as_frame=True)\n",
    "\n",
    "# Extract features (X) and target (y)\n",
    "X = dataset.data\n",
    "y = dataset.target\n",
    "\n",
    "# Copy the 'capital-gain' column\n",
    "X['capital-gain1'] = X['capital-gain']\n",
    "X['capital-gain2'] = X['capital-gain']\n",
    "X['capital-gain3'] = X['capital-gain']\n",
    "\n",
    "\n",
    "# Display first few rows\n",
    "print(X.head())\n",
    "print(y.head())\n"
   ],
   "outputs": [
    {
     "name": "stdout",
     "output_type": "stream",
     "text": [
      "   age  workclass  fnlwgt     education  education-num      marital-status  \\\n",
      "0   25    Private  226802          11th              7       Never-married   \n",
      "1   38    Private   89814       HS-grad              9  Married-civ-spouse   \n",
      "2   28  Local-gov  336951    Assoc-acdm             12  Married-civ-spouse   \n",
      "3   44    Private  160323  Some-college             10  Married-civ-spouse   \n",
      "4   18        NaN  103497  Some-college             10       Never-married   \n",
      "\n",
      "          occupation relationship   race     sex  capital-gain  capital-loss  \\\n",
      "0  Machine-op-inspct    Own-child  Black    Male             0             0   \n",
      "1    Farming-fishing      Husband  White    Male             0             0   \n",
      "2    Protective-serv      Husband  White    Male             0             0   \n",
      "3  Machine-op-inspct      Husband  Black    Male          7688             0   \n",
      "4                NaN    Own-child  White  Female             0             0   \n",
      "\n",
      "   hours-per-week native-country  capital-gain1  capital-gain2  capital-gain3  \n",
      "0              40  United-States              0              0              0  \n",
      "1              50  United-States              0              0              0  \n",
      "2              40  United-States              0              0              0  \n",
      "3              40  United-States           7688           7688           7688  \n",
      "4              30  United-States              0              0              0  \n",
      "0    <=50K\n",
      "1    <=50K\n",
      "2     >50K\n",
      "3     >50K\n",
      "4    <=50K\n",
      "Name: class, dtype: category\n",
      "Categories (2, object): ['<=50K', '>50K']\n"
     ]
    }
   ],
   "execution_count": 1
  },
  {
   "metadata": {
    "ExecuteTime": {
     "end_time": "2025-01-29T22:42:37.023952Z",
     "start_time": "2025-01-29T22:42:36.131203Z"
    }
   },
   "cell_type": "code",
   "source": [
    "import pandas as pd\n",
    "import numpy as np\n",
    "from sklearn.metrics import normalized_mutual_info_score\n",
    "from sklearn.preprocessing import LabelEncoder\n",
    "\n",
    "\n",
    "def get_mutual_information_score(X):\n",
    "    features = X.columns\n",
    "    num_features = len(features)\n",
    "\n",
    "    # Initialize an empty DataFrame to store mutual information values\n",
    "    mi_matrix = pd.DataFrame(np.zeros((num_features, num_features)), columns=features, index=features)\n",
    "\n",
    "    # Preprocess each feature to ensure that all features are discrete (integers)\n",
    "    processed_X = X.copy()\n",
    "    encoders = {}\n",
    "\n",
    "    for feature in features:\n",
    "        if X[feature].dtype == 'object' or X[feature].dtype.name == 'category':\n",
    "            # Encode categorical features using LabelEncoder\n",
    "            le = LabelEncoder()\n",
    "            processed_X[feature] = le.fit_transform(X[feature].astype(str))  # Encode as integers\n",
    "            encoders[feature] = le\n",
    "\n",
    "    # Calculate mutual information for each feature pair\n",
    "    for i in range(num_features):\n",
    "        for j in range(i + 1, num_features):  # Avoid redundant calculations (symmetry)\n",
    "            mi_value = normalized_mutual_info_score(processed_X[features[i]], processed_X[features[j]])\n",
    "            mi_matrix.iloc[i, j] = mi_value\n",
    "            mi_matrix.iloc[j, i] = mi_value  # Symmetric assignment\n",
    "\n",
    "\n",
    "    print(mi_matrix)\n",
    "    # Step 3: Compute the Average Information Score\n",
    "    num_comparisons = (num_features * (num_features - 1)) / 2  # Upper triangle count\n",
    "    average_info_score = mi_matrix.sum().sum() / (2 * num_comparisons)  # Sum divided by num comparisons\n",
    "    return average_info_score\n",
    "\n",
    "mutual_information_matrix = get_mutual_information_score(X)\n"
   ],
   "id": "7967c1689cec3537",
   "outputs": [
    {
     "name": "stdout",
     "output_type": "stream",
     "text": [
      "                     age  workclass    fnlwgt  education  education-num  \\\n",
      "age             0.000000   0.023279  0.486762   0.037580       0.037580   \n",
      "workclass       0.023279   0.000000  0.151751   0.020786       0.020786   \n",
      "fnlwgt          0.486762   0.151751  0.000000   0.250843       0.250843   \n",
      "education       0.037580   0.020786  0.250843   0.000000       1.000000   \n",
      "education-num   0.037580   0.020786  0.250843   1.000000       0.000000   \n",
      "marital-status  0.094916   0.018233  0.174431   0.014388       0.014388   \n",
      "occupation      0.025309   0.183297  0.295409   0.099649       0.099649   \n",
      "relationship    0.073349   0.019048  0.202642   0.021497       0.021497   \n",
      "race            0.002381   0.008643  0.099934   0.007624       0.007624   \n",
      "sex             0.003904   0.014204  0.113747   0.003413       0.003413   \n",
      "capital-gain    0.035031   0.019161  0.092253   0.028032       0.028032   \n",
      "capital-loss    0.021769   0.012406  0.056562   0.017364       0.017364   \n",
      "hours-per-week  0.049366   0.032672  0.306829   0.023328       0.023328   \n",
      "native-country  0.013299   0.008852  0.103469   0.038377       0.038377   \n",
      "capital-gain1   0.035031   0.019161  0.092253   0.028032       0.028032   \n",
      "capital-gain2   0.035031   0.019161  0.092253   0.028032       0.028032   \n",
      "capital-gain3   0.035031   0.019161  0.092253   0.028032       0.028032   \n",
      "\n",
      "                marital-status  occupation  relationship      race       sex  \\\n",
      "age                   0.094916    0.025309      0.073349  0.002381  0.003904   \n",
      "workclass             0.018233    0.183297      0.019048  0.008643  0.014204   \n",
      "fnlwgt                0.174431    0.295409      0.202642  0.099934  0.113747   \n",
      "education             0.014388    0.099649      0.021497  0.007624  0.003413   \n",
      "education-num         0.014388    0.099649      0.021497  0.007624  0.003413   \n",
      "marital-status        0.000000    0.028219      0.524468  0.013722  0.117616   \n",
      "occupation            0.028219    0.000000      0.042337  0.008228  0.064673   \n",
      "relationship          0.524468    0.042337      0.000000  0.016307  0.255147   \n",
      "race                  0.013722    0.008228      0.016307  0.000000  0.010411   \n",
      "sex                   0.117616    0.064673      0.255147  0.010411  0.000000   \n",
      "capital-gain          0.070654    0.023515      0.067887  0.008328  0.017328   \n",
      "capital-loss          0.047521    0.015728      0.044293  0.007576  0.012997   \n",
      "hours-per-week        0.027997    0.048048      0.039079  0.008438  0.025559   \n",
      "native-country        0.010450    0.016686      0.010437  0.157477  0.003035   \n",
      "capital-gain1         0.070654    0.023515      0.067887  0.008328  0.017328   \n",
      "capital-gain2         0.070654    0.023515      0.067887  0.008328  0.017328   \n",
      "capital-gain3         0.070654    0.023515      0.067887  0.008328  0.017328   \n",
      "\n",
      "                capital-gain  capital-loss  hours-per-week  native-country  \\\n",
      "age                 0.035031      0.021769        0.049366        0.013299   \n",
      "workclass           0.019161      0.012406        0.032672        0.008852   \n",
      "fnlwgt              0.092253      0.056562        0.306829        0.103469   \n",
      "education           0.028032      0.017364        0.023328        0.038377   \n",
      "education-num       0.028032      0.017364        0.023328        0.038377   \n",
      "marital-status      0.070654      0.047521        0.027997        0.010450   \n",
      "occupation          0.023515      0.015728        0.048048        0.016686   \n",
      "relationship        0.067887      0.044293        0.039079        0.010437   \n",
      "race                0.008328      0.007576        0.008438        0.157477   \n",
      "sex                 0.017328      0.012997        0.025559        0.003035   \n",
      "capital-gain        0.000000      0.008648        0.030044        0.019403   \n",
      "capital-loss        0.008648      0.000000        0.020123        0.017079   \n",
      "hours-per-week      0.030044      0.020123        0.000000        0.015619   \n",
      "native-country      0.019403      0.017079        0.015619        0.000000   \n",
      "capital-gain1       1.000000      0.008648        0.030044        0.019403   \n",
      "capital-gain2       1.000000      0.008648        0.030044        0.019403   \n",
      "capital-gain3       1.000000      0.008648        0.030044        0.019403   \n",
      "\n",
      "                capital-gain1  capital-gain2  capital-gain3  \n",
      "age                  0.035031       0.035031       0.035031  \n",
      "workclass            0.019161       0.019161       0.019161  \n",
      "fnlwgt               0.092253       0.092253       0.092253  \n",
      "education            0.028032       0.028032       0.028032  \n",
      "education-num        0.028032       0.028032       0.028032  \n",
      "marital-status       0.070654       0.070654       0.070654  \n",
      "occupation           0.023515       0.023515       0.023515  \n",
      "relationship         0.067887       0.067887       0.067887  \n",
      "race                 0.008328       0.008328       0.008328  \n",
      "sex                  0.017328       0.017328       0.017328  \n",
      "capital-gain         1.000000       1.000000       1.000000  \n",
      "capital-loss         0.008648       0.008648       0.008648  \n",
      "hours-per-week       0.030044       0.030044       0.030044  \n",
      "native-country       0.019403       0.019403       0.019403  \n",
      "capital-gain1        0.000000       1.000000       1.000000  \n",
      "capital-gain2        1.000000       0.000000       1.000000  \n",
      "capital-gain3        1.000000       1.000000       0.000000  \n"
     ]
    }
   ],
   "execution_count": 27
  },
  {
   "metadata": {
    "ExecuteTime": {
     "end_time": "2025-01-29T22:42:40.759817Z",
     "start_time": "2025-01-29T22:42:40.756030Z"
    }
   },
   "cell_type": "code",
   "source": "mutual_information_matrix",
   "id": "2123044a0398b0ef",
   "outputs": [
    {
     "data": {
      "text/plain": [
       "0.10344621782809955"
      ]
     },
     "execution_count": 28,
     "metadata": {},
     "output_type": "execute_result"
    }
   ],
   "execution_count": 28
  },
  {
   "metadata": {
    "ExecuteTime": {
     "end_time": "2025-01-30T21:41:42.975690Z",
     "start_time": "2025-01-30T21:41:42.971632Z"
    }
   },
   "cell_type": "code",
   "source": [
    "df = X\n",
    "df['target'] = y"
   ],
   "id": "d7710dd536078dd6",
   "outputs": [],
   "execution_count": 2
  },
  {
   "metadata": {
    "ExecuteTime": {
     "end_time": "2025-01-30T21:41:55.376025Z",
     "start_time": "2025-01-30T21:41:55.364338Z"
    }
   },
   "cell_type": "code",
   "source": "condition_1 = df[X.columns.tolist()].duplicated()",
   "id": "4074652632a18457",
   "outputs": [],
   "execution_count": 4
  },
  {
   "metadata": {},
   "cell_type": "code",
   "source": "df_filtered = df[condition_1]",
   "id": "62251a93554235e3",
   "outputs": [],
   "execution_count": null
  },
  {
   "metadata": {
    "jupyter": {
     "is_executing": true
    },
    "ExecuteTime": {
     "start_time": "2025-01-30T21:41:57.920124Z"
    }
   },
   "cell_type": "code",
   "source": [
    "import dask.dataframe as dd\n",
    "\n",
    "ddf = dd.from_pandas(df, npartitions=4)\n",
    "result = ddf[condition_1].groupby(list(X.columns)).size().compute()"
   ],
   "id": "28ca62e62c34d645",
   "outputs": [
    {
     "name": "stderr",
     "output_type": "stream",
     "text": [
      "/Users/rafaelcardoso/PycharmProjects/DQ_FL/.venv/lib/python3.9/site-packages/dask/dataframe/core.py:4975: UserWarning: Boolean Series key will be reindexed to match DataFrame index.\n",
      "  meta = self._meta[_extract_meta(key)]\n",
      "/Users/rafaelcardoso/PycharmProjects/DQ_FL/.venv/lib/python3.9/site-packages/dask/dataframe/groupby.py:1424: FutureWarning: The default of observed=False is deprecated and will be changed to True in a future version of pandas. Pass observed=False to retain current behavior or observed=True to adopt the future default and silence this warning.\n",
      "  self._meta = self.obj._meta.groupby(\n"
     ]
    }
   ],
   "execution_count": null
  },
  {
   "metadata": {},
   "cell_type": "code",
   "outputs": [],
   "execution_count": null,
   "source": "",
   "id": "f4cf216d748c56bb"
  }
 ],
 "metadata": {
  "kernelspec": {
   "display_name": "Python 3",
   "language": "python",
   "name": "python3"
  },
  "language_info": {
   "codemirror_mode": {
    "name": "ipython",
    "version": 2
   },
   "file_extension": ".py",
   "mimetype": "text/x-python",
   "name": "python",
   "nbconvert_exporter": "python",
   "pygments_lexer": "ipython2",
   "version": "2.7.6"
  }
 },
 "nbformat": 4,
 "nbformat_minor": 5
}
